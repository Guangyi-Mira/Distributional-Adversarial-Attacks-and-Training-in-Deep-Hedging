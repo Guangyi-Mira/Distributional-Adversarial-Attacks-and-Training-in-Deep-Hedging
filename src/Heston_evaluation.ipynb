{
 "cells": [
  {
   "cell_type": "code",
   "execution_count": 7,
   "metadata": {},
   "outputs": [],
   "source": [
    "import torch\n",
    "import torch.nn as nn\n",
    "from Heston_util import *"
   ]
  },
  {
   "cell_type": "code",
   "execution_count": 8,
   "metadata": {},
   "outputs": [
    {
     "name": "stdout",
     "output_type": "stream",
     "text": [
      "running on cuda\n"
     ]
    }
   ],
   "source": [
    "device = torch.device(\"cuda\" if torch.cuda.is_available() else \"cpu\")\n",
    "print(f\"running on {device}\")"
   ]
  },
  {
   "cell_type": "code",
   "execution_count": 9,
   "metadata": {},
   "outputs": [],
   "source": [
    "sequence_length = 30\n",
    "dt = 1/365\n",
    "learning_rate = 0.005\n",
    "batch_size = 10000\n",
    "\n",
    "sigma = 2\n",
    "T = dt * sequence_length\n",
    "K = 100\n",
    "s0 = 100\n",
    "v0 = 0.04\n",
    "alpha = 1.\n",
    "b = 0.04\n",
    "rho = -0.7\n",
    "alpha_loss = 0.5\n",
    "transaction_cost_rate = 0.0"
   ]
  },
  {
   "cell_type": "code",
   "execution_count": 10,
   "metadata": {},
   "outputs": [],
   "source": [
    "def performance(network, S, V, VarPrice):\n",
    "    network.eval()\n",
    "    input_vector = torch.cat((torch.log(S[:, :-1]).unsqueeze(-1), V[:, :-1].unsqueeze(-1)), dim=-1)\n",
    "    holding = network(input_vector).squeeze()\n",
    "    delta_S = S[:, 1:] - S[:, :-1]\n",
    "    delta_V = VarPrice[:, 1:] - VarPrice[:, :-1]\n",
    "    delta_price = torch.cat((delta_S.unsqueeze(-1), delta_V.unsqueeze(-1)), dim=2)\n",
    "    PnL = (holding * delta_price).sum(dim=(1,2))\n",
    "    C_T = loss_fn.terminal_payoff(S[:,-1])\n",
    "    X = -PnL + C_T    \n",
    "    p0 = find_optimal_p0(X,alpha_loss)\n",
    "    X = X - p0  \n",
    "    return (torch.max(X, torch.zeros_like(X)).mean().item()/0.5+p0)"
   ]
  },
  {
   "cell_type": "code",
   "execution_count": 11,
   "metadata": {},
   "outputs": [],
   "source": [
    "loss_fn = loss_CVAR(Strike_price=K, vol=sigma, T=T, alpha_loss=alpha_loss, trans_cost_rate=transaction_cost_rate, p0_mode='search').to(device=device)"
   ]
  },
  {
   "cell_type": "code",
   "execution_count": 12,
   "metadata": {},
   "outputs": [],
   "source": [
    "# Load the data\n",
    "data = torch.load('../Data/Heston_test.pt') # Load the data from the .pt file\n",
    "N=1000000 # Number of samples\n",
    "S, V, VarPrice = data[0][:N], data[1][:N], data[2][:N] \n",
    "S,V,VarPrice = S.to(device), V.to(device), VarPrice.to(device)"
   ]
  },
  {
   "cell_type": "code",
   "execution_count": 13,
   "metadata": {},
   "outputs": [
    {
     "data": {
      "text/plain": [
       "<All keys matched successfully>"
      ]
     },
     "execution_count": 13,
     "metadata": {},
     "output_type": "execute_result"
    }
   ],
   "source": [
    "# Load the network\n",
    "network = RNN_BN_simple(sequence_length=sequence_length).to(device=device)\n",
    "network.eval()\n",
    "network.load_state_dict(torch.load('../Result/Heston.pth'))"
   ]
  },
  {
   "cell_type": "code",
   "execution_count": 14,
   "metadata": {},
   "outputs": [
    {
     "name": "stdout",
     "output_type": "stream",
     "text": [
      "1.9301657378673553\n"
     ]
    }
   ],
   "source": [
    "# Evaluate the performance of the network\n",
    "result = performance(network, S, V, VarPrice)\n",
    "print(result)"
   ]
  }
 ],
 "metadata": {
  "kernelspec": {
   "display_name": "torch",
   "language": "python",
   "name": "python3"
  },
  "language_info": {
   "codemirror_mode": {
    "name": "ipython",
    "version": 3
   },
   "file_extension": ".py",
   "mimetype": "text/x-python",
   "name": "python",
   "nbconvert_exporter": "python",
   "pygments_lexer": "ipython3",
   "version": "3.11.9"
  }
 },
 "nbformat": 4,
 "nbformat_minor": 2
}
