{
 "cells": [
  {
   "cell_type": "code",
   "execution_count": null,
   "metadata": {},
   "outputs": [],
   "source": [
    "import torch\n",
    "import torch.nn as nn\n",
    "import pandas as pd\n",
    "from GAD_util import *"
   ]
  },
  {
   "cell_type": "code",
   "execution_count": 2,
   "metadata": {},
   "outputs": [
    {
     "name": "stdout",
     "output_type": "stream",
     "text": [
      "running on cuda\n"
     ]
    }
   ],
   "source": [
    "device = torch.device(\"cuda\" if torch.cuda.is_available() else \"cpu\")\n",
    "print(f\"running on {device}\")"
   ]
  },
  {
   "cell_type": "code",
   "execution_count": null,
   "metadata": {},
   "outputs": [],
   "source": [
    "sequence_length = 30\n",
    "dt = 1/250\n",
    "learning_rate = 0.005\n",
    "batch_size = 10000\n",
    "batch_num= 20\n",
    "epoch_num = 300\n",
    "T = dt * sequence_length"
   ]
  },
  {
   "cell_type": "code",
   "execution_count": null,
   "metadata": {},
   "outputs": [],
   "source": [
    "loss_fn = loss_exp_OCE(1.3,X_max=True, p0_mode='calculate')"
   ]
  },
  {
   "cell_type": "code",
   "execution_count": null,
   "metadata": {},
   "outputs": [],
   "source": [
    "# Load the network\n",
    "network = RNN_BN_simple(sequence_length=sequence_length).to(device=device)\n",
    "network.eval()\n",
    "# network.load_state_dict(torch.load('../Result/{name}'))"
   ]
  },
  {
   "cell_type": "code",
   "execution_count": null,
   "metadata": {},
   "outputs": [],
   "source": [
    "# Evaluation on the tested price trajectory\n",
    "def PnL(price_single):\n",
    "    # Calculate the PnL for a single price trajectory\n",
    "    holding = network(price_single[:-1].unsqueeze(-1).unsqueeze(0)).squeeze()\n",
    "    delta_price = price_single[1:] - price_single[:-1]\n",
    "    Pnl = (holding * delta_price.squeeze()).sum().item()\n",
    "    payoff = max((price_single.mean()-10).item(),0)\n",
    "    return (Pnl-payoff)\n",
    "data = pd.read_csv(\"../Data/stocks_close_prices_2008_2021.csv\")\n",
    "company = 'MSFT'\n",
    "test_period= data[company].values[2880:2911]\n",
    "test_period = test_period / test_period[0] * 10\n",
    "price_single_test = torch.tensor(test_period, dtype=torch.float32, device=device)\n",
    "\n",
    "result = PnL(price_single_test)\n",
    "print(result)"
   ]
  },
  {
   "cell_type": "code",
   "execution_count": null,
   "metadata": {},
   "outputs": [],
   "source": [
    "# Evaluation on the dataset\n",
    "def performance_dataset(price):\n",
    "    # Compute the loss for the given price data\n",
    "    holding = network(price[:,:-1].unsqueeze(-1)).squeeze()\n",
    "    loss = loss_fn(holding, price)\n",
    "    return loss.item()\n",
    "# load data\n",
    "company = 'MSFT'\n",
    "run_name = f'GAD_{company}'\n",
    "price = torch.load(f\"../Data/{run_name}/GAD_fix_val.pt\").to(device)\n",
    "# price = torch.load(f\"../Data/{run_name}/GAD_fix_test.pt\").to(device)\n",
    "# price = torch.load(f\"../Data/{run_name}/GAD_fix_train.pt\").to(device)\n",
    "# price = torch.load(f\"../Data/{run_name}/GAD_robust_val.pt\").to(device)\n",
    "# price = torch.load(f\"../Data/{run_name}/GAD_robust_test.pt\").to(device)\n",
    "# price = torch.load(f\"../Data/{run_name}/GAD_robust_train.pt\").to(device)\n",
    "# price = torch.load(f\"../Data/{run_name}/GAD_real_test.pt\").to(device)\n",
    "\n",
    "# Evaluate the performance of the network\n",
    "result = performance_dataset(price)\n",
    "print(result)"
   ]
  }
 ],
 "metadata": {
  "kernelspec": {
   "display_name": "torch",
   "language": "python",
   "name": "python3"
  },
  "language_info": {
   "codemirror_mode": {
    "name": "ipython",
    "version": 3
   },
   "file_extension": ".py",
   "mimetype": "text/x-python",
   "name": "python",
   "nbconvert_exporter": "python",
   "pygments_lexer": "ipython3",
   "version": "3.11.9"
  }
 },
 "nbformat": 4,
 "nbformat_minor": 2
}
