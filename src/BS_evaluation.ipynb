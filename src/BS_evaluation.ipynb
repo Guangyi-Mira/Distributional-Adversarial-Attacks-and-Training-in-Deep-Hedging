{
 "cells": [
  {
   "cell_type": "code",
   "execution_count": 1,
   "metadata": {},
   "outputs": [],
   "source": [
    "import torch\n",
    "import torch.nn as nn\n",
    "from BS_util import *"
   ]
  },
  {
   "cell_type": "code",
   "execution_count": 2,
   "metadata": {},
   "outputs": [
    {
     "name": "stdout",
     "output_type": "stream",
     "text": [
      "running on cuda\n"
     ]
    }
   ],
   "source": [
    "device = torch.device(\"cuda\" if torch.cuda.is_available() else \"cpu\")\n",
    "print(f\"running on {device}\")"
   ]
  },
  {
   "cell_type": "code",
   "execution_count": 3,
   "metadata": {},
   "outputs": [],
   "source": [
    "sequence_length = 30\n",
    "dt = 1/365\n",
    "sigma = 0.2\n",
    "T = dt * sequence_length\n",
    "K = 100\n",
    "S0 = 100"
   ]
  },
  {
   "cell_type": "code",
   "execution_count": 4,
   "metadata": {},
   "outputs": [],
   "source": [
    "# load data\n",
    "price = torch.load('../Data/BS_test.pt').to(device)\n",
    "# price = torch.load('../Data/BS_train.pt').to(device)\n",
    "# price = torch.load('../Data/BS_val.pt').to(device)"
   ]
  },
  {
   "cell_type": "code",
   "execution_count": 5,
   "metadata": {},
   "outputs": [],
   "source": [
    "# load network strategy\n",
    "network = RNN_BN_simple(1,sequence_length,device).to(device)"
   ]
  },
  {
   "cell_type": "code",
   "execution_count": 6,
   "metadata": {},
   "outputs": [
    {
     "name": "stdout",
     "output_type": "stream",
     "text": [
      "8.004311561584473\n"
     ]
    }
   ],
   "source": [
    "loss_fn = loss_exp(K, sigma, T,1.3,X_max=True).to(device)\n",
    "def performance(network,price):\n",
    "    holding = network(torch.log(price[:,:-1].unsqueeze(-1))).squeeze()\n",
    "    loss = loss_fn(holding, price)\n",
    "    return loss.item()\n",
    "\n",
    "print(performance(network, price))"
   ]
  }
 ],
 "metadata": {
  "kernelspec": {
   "display_name": "torch",
   "language": "python",
   "name": "python3"
  },
  "language_info": {
   "codemirror_mode": {
    "name": "ipython",
    "version": 3
   },
   "file_extension": ".py",
   "mimetype": "text/x-python",
   "name": "python",
   "nbconvert_exporter": "python",
   "pygments_lexer": "ipython3",
   "version": "3.11.9"
  }
 },
 "nbformat": 4,
 "nbformat_minor": 2
}
